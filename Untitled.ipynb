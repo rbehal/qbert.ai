{
 "cells": [
  {
   "cell_type": "code",
   "execution_count": 1,
   "metadata": {},
   "outputs": [],
   "source": [
    "import sys\n",
    "from random import randrange\n",
    "from PIL import Image\n",
    "import matplotlib.pyplot as plt\n",
    "from Game import Game\n",
    "from copy import deepcopy"
   ]
  },
  {
   "cell_type": "code",
   "execution_count": null,
   "metadata": {
    "scrolled": true
   },
   "outputs": [],
   "source": [
    "screenshots=[]\n",
    "\n",
    "game = Game()\n",
    "minimal_actions = game.ale.getMinimalActionSet()\n",
    "\n",
    "for episode in range(10):\n",
    "    total_reward = 0\n",
    "    actions = []\n",
    "    count = 0 \n",
    "    while not game.is_over():\n",
    "        a = minimal_actions[randrange(len(minimal_actions))]\n",
    "        \n",
    "        reward = game.ale.act(a)\n",
    "        total_reward += reward\n",
    "        actions.append(a)\n",
    "        game.update()\n",
    "        \n",
    "        if (count == 100):\n",
    "            test2 = deepcopy(game.screen)\n",
    "            test3, test4, test5 = deepcopy(game.enemy_states), deepcopy(game.entity_states), deepcopy(game.player.pos)\n",
    "#             test6 = deepcopy(game.block_states)\n",
    "        \n",
    "        count += 1\n",
    "    screenshots.append(test2)\n",
    "    plt.imshow(test2)\n",
    "    plt.show()\n",
    "    \n",
    "    print(test3)\n",
    "    print(test4)\n",
    "    print(test5)\n",
    "#     print(test6)\n",
    "    \n",
    "    print(\"Episode %d ended with score: %d\" % (episode, total_reward))\n",
    "    game.reset()"
   ]
  },
  {
   "cell_type": "code",
   "execution_count": null,
   "metadata": {},
   "outputs": [],
   "source": [
    "screenshots"
   ]
  },
  {
   "cell_type": "code",
   "execution_count": null,
   "metadata": {},
   "outputs": [],
   "source": [
    "im = Image.fromarray(screenshots[3])\n",
    "im.save(\"test4.png\")"
   ]
  }
 ],
 "metadata": {
  "kernelspec": {
   "display_name": "Python 3",
   "language": "python",
   "name": "python3"
  },
  "language_info": {
   "codemirror_mode": {
    "name": "ipython",
    "version": 3
   },
   "file_extension": ".py",
   "mimetype": "text/x-python",
   "name": "python",
   "nbconvert_exporter": "python",
   "pygments_lexer": "ipython3",
   "version": "3.8.5"
  }
 },
 "nbformat": 4,
 "nbformat_minor": 4
}
