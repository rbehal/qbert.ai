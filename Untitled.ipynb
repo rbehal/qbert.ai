{
 "cells": [
  {
   "cell_type": "code",
   "execution_count": 1,
   "metadata": {},
   "outputs": [],
   "source": [
    "import sys\n",
    "from random import randrange\n",
    "from PIL import Image\n",
    "import matplotlib.pyplot as plt\n",
    "from Game import Game\n",
    "from copy import deepcopy\n",
    "from QLearning import *\n",
    "import numpy as np"
   ]
  },
  {
   "cell_type": "code",
   "execution_count": 4,
   "metadata": {
    "scrolled": false
   },
   "outputs": [
    {
     "name": "stdout",
     "output_type": "stream",
     "text": [
      "[ 0.74087205 -0.68479617 -0.92479842  0.30911813  0.73665451  1.06906131]\n",
      "Episode 0 ended with score: 50\n",
      "[ 0.73472788 -0.71295483 -0.89085933  0.30179681  0.10825062  0.40766339]\n",
      "Episode 1 ended with score: 25\n",
      "[ 0.74187929 -0.68024233 -0.87855405  0.32360032  0.24455885  1.0586897 ]\n",
      "Episode 2 ended with score: 50\n",
      "[ 0.73906879 -0.693088   -0.85707539  0.31778782 -0.09542557  0.66062321]\n",
      "Episode 3 ended with score: 0\n",
      "[ 0.73861029 -0.69518704 -0.8110014   0.31432168 -0.17934586  0.52855754]\n",
      "Episode 4 ended with score: 0\n",
      "[ 0.74416095 -0.67104647 -0.53559456  0.32018219  0.06961305  0.96765233]\n",
      "Episode 5 ended with score: 100\n",
      "[ 0.74183679 -0.68153749 -0.55016889  0.17749083 -0.22963567  0.67466742]\n",
      "Episode 6 ended with score: 50\n",
      "[ 0.74295723 -0.67639669 -0.49818162  0.17408694 -0.25482497  0.71402845]\n",
      "Episode 7 ended with score: 0\n",
      "[ 0.74427932 -0.67033233 -0.45616121  0.17162443 -0.23138821  0.70688965]\n",
      "Episode 8 ended with score: 0\n",
      "[ 0.7470575  -0.65832415 -0.16304076  0.14796417 -0.21366124  0.84546949]\n",
      "Episode 9 ended with score: 75\n",
      "[ 0.74860399 -0.65122716 -0.14728593  0.1525836  -0.2793764   0.88399893]\n",
      "Episode 10 ended with score: 0\n",
      "[ 0.7501951  -0.64402353 -0.16023243  0.1511864  -0.23445     0.87429236]\n",
      "Episode 11 ended with score: 75\n",
      "[ 0.75620488 -0.61877363  0.0091249   0.14850601 -0.30053819  1.44085421]\n",
      "Episode 12 ended with score: 125\n",
      "[ 0.7695943  -0.55778361 -0.53489695  0.15786858  0.95494934  2.45539265]\n",
      "Episode 13 ended with score: 50\n",
      "[ 0.75838573 -0.60909177 -0.54894257  0.14646743 -0.28620823  1.13475059]\n",
      "Episode 14 ended with score: 0\n"
     ]
    }
   ],
   "source": [
    "screenshots=[]\n",
    "\n",
    "game = Game()\n",
    "minimal_actions = game.ale.getMinimalActionSet()\n",
    "learner = QLearning(game,exp_func=\"softmax\")\n",
    "for episode in range(15):\n",
    "    total_reward = 0\n",
    "    actions = []\n",
    "    count = 0 \n",
    "    while not game.is_over():\n",
    "        a = minimal_actions[randrange(len(minimal_actions))]\n",
    "        \n",
    "        total_reward += learner.main()\n",
    "        \n",
    "#         if (count % 100 == 0):\n",
    "#             test2 = deepcopy(game.screen)\n",
    "#             test3, test4, test5 = deepcopy(game.enemy_states), deepcopy(game.entity_states), deepcopy(game.player.pos)\n",
    "#             plt.imshow(game.screen)n\n",
    "#             plt.show()\n",
    "        \n",
    "        count += 1\n",
    "#     screenshots.append(test2)\n",
    " \n",
    "    \n",
    "#     print(test3)\n",
    "#     print(test4)\n",
    "#     print(test5)\n",
    "#     print(test6)\n",
    "    print(learner.weights)\n",
    "    print(\"Episode %d ended with score: %d\" % (episode, total_reward))\n",
    "    yolo = game.ale.getMinimalActionSet()\n",
    "    game.reset()"
   ]
  },
  {
   "cell_type": "code",
   "execution_count": null,
   "metadata": {},
   "outputs": [],
   "source": []
  },
  {
   "cell_type": "code",
   "execution_count": null,
   "metadata": {},
   "outputs": [],
   "source": [
    "for act in yolo:\n",
    "    print(str(act).split(\".\")[1])"
   ]
  },
  {
   "cell_type": "code",
   "execution_count": null,
   "metadata": {
    "scrolled": true
   },
   "outputs": [],
   "source": [
    "game.BLOCK_POS"
   ]
  },
  {
   "cell_type": "code",
   "execution_count": null,
   "metadata": {
    "scrolled": true
   },
   "outputs": [],
   "source": [
    "game.player.pos"
   ]
  },
  {
   "cell_type": "code",
   "execution_count": null,
   "metadata": {},
   "outputs": [],
   "source": [
    "test"
   ]
  },
  {
   "cell_type": "code",
   "execution_count": null,
   "metadata": {
    "scrolled": true
   },
   "outputs": [],
   "source": [
    "game.execute_action(\"Action.RIGHT\")\n",
    "game.player.pos"
   ]
  },
  {
   "cell_type": "code",
   "execution_count": null,
   "metadata": {},
   "outputs": [],
   "source": [
    "[(index, row.index(game.player.pos)) for index, row in enumerate(game.BLOCK_POS) if game.player.pos in row]"
   ]
  },
  {
   "cell_type": "code",
   "execution_count": null,
   "metadata": {},
   "outputs": [],
   "source": [
    "game.disc_states"
   ]
  },
  {
   "cell_type": "code",
   "execution_count": null,
   "metadata": {},
   "outputs": [],
   "source": [
    "test = []\n",
    "for action in yolo:\n",
    "    test.append(str(action))"
   ]
  },
  {
   "cell_type": "code",
   "execution_count": null,
   "metadata": {},
   "outputs": [],
   "source": [
    "for item in test:\n",
    "    print(item.split(\".\")[1])"
   ]
  },
  {
   "cell_type": "code",
   "execution_count": null,
   "metadata": {},
   "outputs": [],
   "source": [
    "game.player.pos"
   ]
  },
  {
   "cell_type": "code",
   "execution_count": null,
   "metadata": {},
   "outputs": [],
   "source": [
    "object_methods = [method_name for method_name in dir(game.ale)\n",
    "                  if callable(getattr(game.ale, method_name))]"
   ]
  },
  {
   "cell_type": "code",
   "execution_count": null,
   "metadata": {},
   "outputs": [],
   "source": [
    "screenshots"
   ]
  },
  {
   "cell_type": "code",
   "execution_count": null,
   "metadata": {},
   "outputs": [],
   "source": [
    "im = Image.fromarray(screenshots[3])\n",
    "im.save(\"test4.png\")"
   ]
  },
  {
   "cell_type": "code",
   "execution_count": null,
   "metadata": {},
   "outputs": [],
   "source": [
    "a = np.array([1,2,3])\n",
    "np.add(a,a)"
   ]
  },
  {
   "cell_type": "code",
   "execution_count": null,
   "metadata": {},
   "outputs": [],
   "source": [
    "test = {\"d\":1, \"fs\":3, \"fdsf\":4}"
   ]
  },
  {
   "cell_type": "code",
   "execution_count": null,
   "metadata": {},
   "outputs": [],
   "source": [
    "list(test.keys())"
   ]
  },
  {
   "cell_type": "code",
   "execution_count": null,
   "metadata": {},
   "outputs": [],
   "source": [
    "sum(test.values())"
   ]
  },
  {
   "cell_type": "code",
   "execution_count": null,
   "metadata": {
    "scrolled": true
   },
   "outputs": [],
   "source": [
    "np.exp(2)"
   ]
  },
  {
   "cell_type": "code",
   "execution_count": null,
   "metadata": {},
   "outputs": [],
   "source": [
    "[x for x in range(15)]"
   ]
  }
 ],
 "metadata": {
  "kernelspec": {
   "display_name": "Python 3",
   "language": "python",
   "name": "python3"
  },
  "language_info": {
   "codemirror_mode": {
    "name": "ipython",
    "version": 3
   },
   "file_extension": ".py",
   "mimetype": "text/x-python",
   "name": "python",
   "nbconvert_exporter": "python",
   "pygments_lexer": "ipython3",
   "version": "3.8.5"
  }
 },
 "nbformat": 4,
 "nbformat_minor": 4
}
