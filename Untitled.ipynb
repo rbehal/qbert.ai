{
 "cells": [
  {
   "cell_type": "code",
   "execution_count": 6,
   "metadata": {},
   "outputs": [],
   "source": [
    "\"\"\"\n",
    "Sample script for the Arcade Learning Environment's Python interface\n",
    "\n",
    "Usage:\n",
    "    demo.py <rom_file> [options]\n",
    "\n",
    "Options:\n",
    "    --iters=N    Number of iterations to run [default: 5]\n",
    "    --display    Display the game being played. Uses SDL.\n",
    "\n",
    "@author: Alvin Wan\n",
    "@site: alvinwan.com\n",
    "\"\"\"\n",
    "\n",
    "import docopt\n",
    "import random\n",
    "import pygame\n",
    "import sys\n",
    "\n",
    "from ale_py import ALEInterface\n",
    "\n",
    "\n",
    "def main():\n",
    "    arguments = docopt.docopt(__doc__, version='ALE Demo Version 1.0')\n",
    "\n",
    "    pygame.init()\n",
    "\n",
    "    ale = ALEInterface()\n",
    "    ale.setInt(b'random_seed', 123)\n",
    "    ale.setBool(b'display_screen', True)\n",
    "    ale.loadROM(str.encode(arguments['<rom_file>']))\n",
    "\n",
    "    legal_actions = ale.getLegalActionSet()\n",
    "\n",
    "    rewards, num_episodes = [], int(arguments['--iters'] or 5)\n",
    "    for episode in range(num_episodes):\n",
    "        total_reward = 0\n",
    "        while not ale.game_over():\n",
    "            total_reward += ale.act(random.choice(legal_actions))\n",
    "        print('Episode %d reward %d.' % (episode, total_reward))\n",
    "        rewards.append(total_reward)\n",
    "        ale.reset_game()\n",
    "\n",
    "    average = sum(rewards)/len(rewards)\n",
    "    print('Average for %d episodes: %d' % (num_episodes, average))"
   ]
  },
  {
   "cell_type": "code",
   "execution_count": 7,
   "metadata": {},
   "outputs": [
    {
     "ename": "DocoptExit",
     "evalue": "Usage:\n    demo.py <rom_file> [options]",
     "output_type": "error",
     "traceback": [
      "An exception has occurred, use %tb to see the full traceback.\n",
      "\u001b[1;31mDocoptExit\u001b[0m\u001b[1;31m:\u001b[0m Usage:\n    demo.py <rom_file> [options]\n"
     ]
    }
   ],
   "source": [
    "main()"
   ]
  }
 ],
 "metadata": {
  "kernelspec": {
   "display_name": "Python 3",
   "language": "python",
   "name": "python3"
  },
  "language_info": {
   "codemirror_mode": {
    "name": "ipython",
    "version": 3
   },
   "file_extension": ".py",
   "mimetype": "text/x-python",
   "name": "python",
   "nbconvert_exporter": "python",
   "pygments_lexer": "ipython3",
   "version": "3.7.4"
  }
 },
 "nbformat": 4,
 "nbformat_minor": 4
}
