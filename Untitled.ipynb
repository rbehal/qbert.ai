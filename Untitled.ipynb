{
 "cells": [
  {
   "cell_type": "code",
   "execution_count": 1,
   "metadata": {},
   "outputs": [],
   "source": [
    "import sys\n",
    "from random import randrange\n",
    "from PIL import Image\n",
    "import matplotlib.pyplot as plt\n",
    "from Game import Game\n",
    "from copy import deepcopy\n",
    "from QLearning import *\n",
    "import numpy as np\n",
    "import csv"
   ]
  },
  {
   "cell_type": "code",
   "execution_count": null,
   "metadata": {
    "scrolled": false
   },
   "outputs": [],
   "source": [
    "game = Game()\n",
    "learner = QLearning(game,exp_func=\"softmax\")\n",
    "\n",
    "training_data = []\n",
    "minimal_actions = game.ale.getMinimalActionSet()\n",
    "\n",
    "for episode in range(15):\n",
    "    total_reward = 0\n",
    "    count = 0 \n",
    "    while not game.is_over():\n",
    "        total_reward += learner.main()\n",
    "        count += 1\n",
    "        \n",
    "    print(learner.weights)\n",
    "    print(\"Episode %d ended with score: %d\" % (episode, total_reward))\n",
    "    \n",
    "    output_list = [episode, total_reward] + list(learner.weights)\n",
    "    training_data.append(output_list)\n",
    "    \n",
    "    game.reset()"
   ]
  },
  {
   "cell_type": "code",
   "execution_count": null,
   "metadata": {},
   "outputs": [],
   "source": [
    "im = Image.fromarray(screenshots[3])\n",
    "im.save(\"test4.png\")"
   ]
  },
  {
   "cell_type": "code",
   "execution_count": null,
   "metadata": {
    "scrolled": true
   },
   "outputs": [],
   "source": [
    "import csv\n",
    "\n",
    "csv_file = open('training_data.csv','w')\n",
    "\n",
    "headings = [\"Episode Number\", \"Final Score\"]\n",
    "weights =  [\"constant\", \"goal state dist\", \"enemy state dist\", \"entity state dist\", \"ldisc dist\", \"rdsic dist\"]\n",
    "headings = headings + weights\n",
    "\n",
    "writer = csv.writer(csv_file, delimiter=',')\n",
    "writer.writerow(headings)\n",
    "writer.writerow([\"fuck\", \"donald\", \"trump\"])"
   ]
  },
  {
   "cell_type": "code",
   "execution_count": 2,
   "metadata": {},
   "outputs": [],
   "source": [
    "def softmax(x):\n",
    "    \"\"\"Compute softmax values for each sets of scores in x.\"\"\"\n",
    "    e_x = np.exp(x - np.max(x))\n",
    "    return e_x / e_x.sum(axis=0) # only difference"
   ]
  },
  {
   "cell_type": "code",
   "execution_count": 4,
   "metadata": {},
   "outputs": [
    {
     "data": {
      "text/plain": [
       "array([0., 1., 0., 0., 0.])"
      ]
     },
     "execution_count": 4,
     "metadata": {},
     "output_type": "execute_result"
    }
   ],
   "source": [
    "softmax([23123, 234234, 32221, 32441, 55322])"
   ]
  }
 ],
 "metadata": {
  "kernelspec": {
   "display_name": "Python 3",
   "language": "python",
   "name": "python3"
  },
  "language_info": {
   "codemirror_mode": {
    "name": "ipython",
    "version": 3
   },
   "file_extension": ".py",
   "mimetype": "text/x-python",
   "name": "python",
   "nbconvert_exporter": "python",
   "pygments_lexer": "ipython3",
   "version": "3.8.5"
  }
 },
 "nbformat": 4,
 "nbformat_minor": 4
}
