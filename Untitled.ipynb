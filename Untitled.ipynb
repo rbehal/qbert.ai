{
 "cells": [
  {
   "cell_type": "code",
   "execution_count": 1,
   "metadata": {},
   "outputs": [],
   "source": [
    "import sys\n",
    "from random import randrange\n",
    "from PIL import Image\n",
    "import matplotlib.pyplot as plt\n",
    "from Game import Game\n",
    "from copy import deepcopy\n",
    "from QLearning import *\n",
    "import numpy as np"
   ]
  },
  {
   "cell_type": "code",
   "execution_count": null,
   "metadata": {
    "scrolled": false
   },
   "outputs": [
    {
     "name": "stdout",
     "output_type": "stream",
     "text": [
      "[-0.12688561 -0.69797987  0.5491743   0.94808271 -0.20860892 -0.11462533]\n",
      "Episode 0 ended with score: 125\n",
      "[-0.12442698 -0.68665526  0.29741309  0.91100826 -0.04302248  0.08186246]\n",
      "Episode 1 ended with score: 125\n",
      "[-0.1244494  -0.68666266  0.14107969  0.89629641 -0.06902045  0.06097859]\n",
      "Episode 2 ended with score: 50\n",
      "[-0.12375012 -0.68414103  0.00896769  0.88064815 -0.02670758  0.11108487]\n",
      "Episode 3 ended with score: 125\n",
      "[-0.1229439  -0.68039107  0.01658964  0.81955589 -0.03802729  0.14600357]\n",
      "Episode 4 ended with score: 0\n",
      "[-0.12255372 -0.67864041 -0.00162058  0.8127454  -0.02901474  0.16240858]\n",
      "Episode 5 ended with score: 50\n"
     ]
    }
   ],
   "source": [
    "screenshots=[]\n",
    "\n",
    "game = Game()\n",
    "minimal_actions = game.ale.getMinimalActionSet()\n",
    "learner = QLearning(game)\n",
    "for episode in range(15):\n",
    "    total_reward = 0\n",
    "    actions = []\n",
    "    count = 0 \n",
    "    while not game.is_over():\n",
    "        a = minimal_actions[randrange(len(minimal_actions))]\n",
    "        \n",
    "        total_reward += learner.main()\n",
    "        \n",
    "#         if (count % 100 == 0):\n",
    "#             test2 = deepcopy(game.screen)\n",
    "#             test3, test4, test5 = deepcopy(game.enemy_states), deepcopy(game.entity_states), deepcopy(game.player.pos)\n",
    "#             plt.imshow(game.screen)n\n",
    "#             plt.show()\n",
    "        \n",
    "        count += 1\n",
    "#     screenshots.append(test2)\n",
    " \n",
    "    \n",
    "#     print(test3)\n",
    "#     print(test4)\n",
    "#     print(test5)\n",
    "#     print(test6)\n",
    "    print(learner.weights)\n",
    "    print(\"Episode %d ended with score: %d\" % (episode, total_reward))\n",
    "    yolo = game.ale.getMinimalActionSet()\n",
    "    game.reset()"
   ]
  },
  {
   "cell_type": "code",
   "execution_count": null,
   "metadata": {},
   "outputs": [],
   "source": []
  },
  {
   "cell_type": "code",
   "execution_count": null,
   "metadata": {},
   "outputs": [],
   "source": [
    "for act in yolo:\n",
    "    print(str(act).split(\".\")[1])"
   ]
  },
  {
   "cell_type": "code",
   "execution_count": null,
   "metadata": {
    "scrolled": true
   },
   "outputs": [],
   "source": [
    "game.BLOCK_POS"
   ]
  },
  {
   "cell_type": "code",
   "execution_count": null,
   "metadata": {
    "scrolled": true
   },
   "outputs": [],
   "source": [
    "game.player.pos"
   ]
  },
  {
   "cell_type": "code",
   "execution_count": null,
   "metadata": {},
   "outputs": [],
   "source": [
    "test"
   ]
  },
  {
   "cell_type": "code",
   "execution_count": null,
   "metadata": {
    "scrolled": true
   },
   "outputs": [],
   "source": [
    "game.execute_action(\"Action.RIGHT\")\n",
    "game.player.pos"
   ]
  },
  {
   "cell_type": "code",
   "execution_count": null,
   "metadata": {},
   "outputs": [],
   "source": [
    "[(index, row.index(game.player.pos)) for index, row in enumerate(game.BLOCK_POS) if game.player.pos in row]"
   ]
  },
  {
   "cell_type": "code",
   "execution_count": null,
   "metadata": {},
   "outputs": [],
   "source": [
    "game.disc_states"
   ]
  },
  {
   "cell_type": "code",
   "execution_count": null,
   "metadata": {},
   "outputs": [],
   "source": [
    "test = []\n",
    "for action in yolo:\n",
    "    test.append(str(action))"
   ]
  },
  {
   "cell_type": "code",
   "execution_count": null,
   "metadata": {},
   "outputs": [],
   "source": [
    "for item in test:\n",
    "    print(item.split(\".\")[1])"
   ]
  },
  {
   "cell_type": "code",
   "execution_count": null,
   "metadata": {},
   "outputs": [],
   "source": [
    "game.player.pos"
   ]
  },
  {
   "cell_type": "code",
   "execution_count": null,
   "metadata": {},
   "outputs": [],
   "source": [
    "object_methods = [method_name for method_name in dir(game.ale)\n",
    "                  if callable(getattr(game.ale, method_name))]"
   ]
  },
  {
   "cell_type": "code",
   "execution_count": null,
   "metadata": {},
   "outputs": [],
   "source": [
    "screenshots"
   ]
  },
  {
   "cell_type": "code",
   "execution_count": null,
   "metadata": {},
   "outputs": [],
   "source": [
    "im = Image.fromarray(screenshots[3])\n",
    "im.save(\"test4.png\")"
   ]
  },
  {
   "cell_type": "code",
   "execution_count": null,
   "metadata": {},
   "outputs": [],
   "source": [
    "a = np.array([1,2,3])\n",
    "np.add(a,a)"
   ]
  },
  {
   "cell_type": "code",
   "execution_count": null,
   "metadata": {},
   "outputs": [],
   "source": [
    "d = [\"fuck\", \"donald\", \"trump\"]"
   ]
  },
  {
   "cell_type": "code",
   "execution_count": null,
   "metadata": {},
   "outputs": [],
   "source": [
    "d = np.array(d)"
   ]
  },
  {
   "cell_type": "code",
   "execution_count": null,
   "metadata": {},
   "outputs": [],
   "source": [
    "np.random.choice(d)"
   ]
  }
 ],
 "metadata": {
  "kernelspec": {
   "display_name": "Python 3",
   "language": "python",
   "name": "python3"
  },
  "language_info": {
   "codemirror_mode": {
    "name": "ipython",
    "version": 3
   },
   "file_extension": ".py",
   "mimetype": "text/x-python",
   "name": "python",
   "nbconvert_exporter": "python",
   "pygments_lexer": "ipython3",
   "version": "3.8.5"
  }
 },
 "nbformat": 4,
 "nbformat_minor": 4
}
