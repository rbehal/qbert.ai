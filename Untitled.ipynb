{
 "cells": [
  {
   "cell_type": "code",
   "execution_count": 2,
   "metadata": {},
   "outputs": [],
   "source": [
    "import sys\n",
    "from random import randrange\n",
    "from PIL import Image\n",
    "import matplotlib.pyplot as plt\n",
    "from Game import Game\n",
    "from copy import deepcopy\n",
    "from QLearning import *\n",
    "import numpy as np"
   ]
  },
  {
   "cell_type": "code",
   "execution_count": 3,
   "metadata": {
    "scrolled": false
   },
   "outputs": [
    {
     "name": "stdout",
     "output_type": "stream",
     "text": [
      "Episode 0 ended with score: 100\n"
     ]
    }
   ],
   "source": [
    "screenshots=[]\n",
    "\n",
    "game = Game()\n",
    "minimal_actions = game.ale.getMinimalActionSet()\n",
    "\n",
    "for episode in range(1):\n",
    "    total_reward = 0\n",
    "    actions = []\n",
    "    count = 0 \n",
    "    while not game.is_over():\n",
    "        a = minimal_actions[randrange(len(minimal_actions))]\n",
    "        \n",
    "        reward = game.ale.act(a)\n",
    "        total_reward += reward\n",
    "        actions.append(a)\n",
    "        game.update()\n",
    "        \n",
    "        if (count == 123):\n",
    "            test2 = deepcopy(game.screen)\n",
    "            test3, test4, test5 = deepcopy(game.enemy_states), deepcopy(game.entity_states), deepcopy(game.player.pos)\n",
    "#             plt.imshow(game.screen)\n",
    "#             plt.show()\n",
    "#             test = q_func(game)\n",
    "#             print(test[1])\n",
    "#             test6 = deepcopy(game.block_states)\n",
    "        \n",
    "        count += 1\n",
    "    screenshots.append(test2)\n",
    " \n",
    "    \n",
    "#     print(test3)\n",
    "#     print(test4)\n",
    "#     print(test5)\n",
    "#     print(test6)\n",
    "    \n",
    "    print(\"Episode %d ended with score: %d\" % (episode, total_reward))\n",
    "    yolo = game.ale.getMinimalActionSet()\n",
    "    game.reset()"
   ]
  },
  {
   "cell_type": "code",
   "execution_count": 4,
   "metadata": {
    "scrolled": true
   },
   "outputs": [
    {
     "data": {
      "text/plain": [
       "[[(76, 35)],\n",
       " [(64, 63), (92, 63)],\n",
       " [(53, 92), (77, 92), (104, 92)],\n",
       " [(40, 121), (64, 121), (92, 121), (117, 121)],\n",
       " [(29, 150), (52, 150), (76, 150), (105, 150), (128, 150)],\n",
       " [(16, 179), (40, 179), (64, 179), (93, 179), (116, 179), (140, 179)]]"
      ]
     },
     "execution_count": 4,
     "metadata": {},
     "output_type": "execute_result"
    }
   ],
   "source": [
    "game.BLOCK_POS"
   ]
  },
  {
   "cell_type": "code",
   "execution_count": 5,
   "metadata": {
    "scrolled": true
   },
   "outputs": [
    {
     "data": {
      "text/plain": [
       "(76, 35)"
      ]
     },
     "execution_count": 5,
     "metadata": {},
     "output_type": "execute_result"
    }
   ],
   "source": [
    "game.player.pos"
   ]
  },
  {
   "cell_type": "code",
   "execution_count": null,
   "metadata": {},
   "outputs": [],
   "source": [
    "test"
   ]
  },
  {
   "cell_type": "code",
   "execution_count": 11,
   "metadata": {
    "scrolled": true
   },
   "outputs": [
    {
     "data": {
      "text/plain": [
       "(15, 138)"
      ]
     },
     "execution_count": 11,
     "metadata": {},
     "output_type": "execute_result"
    }
   ],
   "source": [
    "game.execute_action(\"Action.RIGHT\")\n",
    "game.player.pos"
   ]
  },
  {
   "cell_type": "code",
   "execution_count": null,
   "metadata": {},
   "outputs": [],
   "source": [
    "[(index, row.index(game.player.pos)) for index, row in enumerate(game.BLOCK_POS) if game.player.pos in row]"
   ]
  },
  {
   "cell_type": "code",
   "execution_count": null,
   "metadata": {},
   "outputs": [],
   "source": [
    "game.disc_states"
   ]
  },
  {
   "cell_type": "code",
   "execution_count": null,
   "metadata": {},
   "outputs": [],
   "source": [
    "test = []\n",
    "for action in yolo:\n",
    "    test.append(str(action))"
   ]
  },
  {
   "cell_type": "code",
   "execution_count": null,
   "metadata": {},
   "outputs": [],
   "source": [
    "for item in test:\n",
    "    print(item.split(\".\")[1])"
   ]
  },
  {
   "cell_type": "code",
   "execution_count": null,
   "metadata": {},
   "outputs": [],
   "source": [
    "game.player.pos"
   ]
  },
  {
   "cell_type": "code",
   "execution_count": null,
   "metadata": {},
   "outputs": [],
   "source": [
    "object_methods = [method_name for method_name in dir(game.ale)\n",
    "                  if callable(getattr(game.ale, method_name))]"
   ]
  },
  {
   "cell_type": "code",
   "execution_count": null,
   "metadata": {},
   "outputs": [],
   "source": [
    "screenshots"
   ]
  },
  {
   "cell_type": "code",
   "execution_count": null,
   "metadata": {},
   "outputs": [],
   "source": [
    "im = Image.fromarray(screenshots[3])\n",
    "im.save(\"test4.png\")"
   ]
  }
 ],
 "metadata": {
  "kernelspec": {
   "display_name": "Python 3",
   "language": "python",
   "name": "python3"
  },
  "language_info": {
   "codemirror_mode": {
    "name": "ipython",
    "version": 3
   },
   "file_extension": ".py",
   "mimetype": "text/x-python",
   "name": "python",
   "nbconvert_exporter": "python",
   "pygments_lexer": "ipython3",
   "version": "3.8.5"
  }
 },
 "nbformat": 4,
 "nbformat_minor": 4
}
