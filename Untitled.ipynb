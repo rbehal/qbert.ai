{
 "cells": [
  {
   "cell_type": "code",
   "execution_count": 8,
   "metadata": {},
   "outputs": [],
   "source": [
    "#!/usr/bin/env python\n",
    "# python_example.py\n",
    "# Author: Ben Goodrich\n",
    "#\n",
    "# This is a direct port to python of the shared library example from\n",
    "# ALE provided in examples/sharedLibraryInterfaceExample.cpp\n",
    "import sys\n",
    "from random import randrange\n",
    "from ale_py import ALEInterface\n",
    "import numpy as np"
   ]
  },
  {
   "cell_type": "code",
   "execution_count": 2,
   "metadata": {
    "scrolled": true
   },
   "outputs": [
    {
     "name": "stdout",
     "output_type": "stream",
     "text": [
      "Episode 0 ended with score: 25\n",
      "Episode 1 ended with score: 350\n",
      "Episode 2 ended with score: 200\n",
      "Episode 3 ended with score: 100\n",
      "Episode 4 ended with score: 250\n",
      "Episode 5 ended with score: 25\n",
      "Episode 6 ended with score: 0\n",
      "Episode 7 ended with score: 375\n",
      "Episode 8 ended with score: 125\n",
      "Episode 9 ended with score: 325\n"
     ]
    }
   ],
   "source": [
    "# if len(sys.argv) < 2:\n",
    "#     print(f\"Usage: {sys.argv[0]} rom_file\")\n",
    "#     sys.exit()\n",
    "\n",
    "ale = ALEInterface()\n",
    "\n",
    "# Get & Set the desired settings\n",
    "ale.setInt(\"random_seed\", 123)\n",
    "\n",
    "# Set USE_SDL to true to display the screen. ALE must be compilied\n",
    "# with SDL enabled for this to work. On OSX, pygame init is used to\n",
    "# proxy-call SDL_main.\n",
    "USE_SDL = False\n",
    "if USE_SDL:\n",
    "    ale.setBool(\"sound\", True)\n",
    "    ale.setBool(\"display_screen\", True)\n",
    "\n",
    "# Load the ROM file\n",
    "# rom_file = sys.argv[1]\n",
    "rom_file='qbert.bin'\n",
    "ale.loadROM(rom_file)\n",
    "\n",
    "# Get the list of legal actions\n",
    "legal_actions = ale.getLegalActionSet()\n",
    "\n",
    "# Play 10 episodes\n",
    "for episode in range(10):\n",
    "    total_reward = 0\n",
    "    while not ale.game_over():\n",
    "        a = legal_actions[randrange(len(legal_actions))]\n",
    "        # Apply an action and get the resulting reward\n",
    "        reward = ale.act(a)\n",
    "        total_reward += reward\n",
    "    print(\"Episode %d ended with score: %d\" % (episode, total_reward))\n",
    "    ale.reset_game()"
   ]
  },
  {
   "cell_type": "code",
   "execution_count": 5,
   "metadata": {},
   "outputs": [],
   "source": [
    "rom_file='qbert.bin'\n",
    "\n",
    "# Get & Set the desired settings\n",
    "ale = ALEInterface()\n",
    "ale.setInt(\"random_seed\", 123)\n",
    "ale.loadROM(rom_file)\n",
    "\n",
    "# Get the list of minimal actions\n",
    "minimal_actions = ale.getMinimalActionSet()"
   ]
  },
  {
   "cell_type": "code",
   "execution_count": 9,
   "metadata": {},
   "outputs": [],
   "source": [
    "(screen_width,screen_height) = ale.getScreenDims()\n",
    "screen_data = np.zeros(screen_width*screen_height,dtype=np.uint32)"
   ]
  },
  {
   "cell_type": "code",
   "execution_count": 12,
   "metadata": {},
   "outputs": [
    {
     "ename": "TypeError",
     "evalue": "getScreenRGB(): incompatible function arguments. The following argument types are supported:\n    1. (self: ale_py.ALEInterface, arg0: numpy.ndarray[uint8]) -> None\n    2. (self: ale_py.ALEInterface) -> numpy.ndarray[uint8]\n\nInvoked with: <ale_py.ALEInterface object at 0x7f55dd06b7b0>, array([0, 0, 0, ..., 0, 0, 0], dtype=uint32)",
     "output_type": "error",
     "traceback": [
      "\u001b[0;31m---------------------------------------------------------------------------\u001b[0m",
      "\u001b[0;31mTypeError\u001b[0m                                 Traceback (most recent call last)",
      "\u001b[0;32m<ipython-input-12-ff50ad09cdd2>\u001b[0m in \u001b[0;36m<module>\u001b[0;34m\u001b[0m\n\u001b[0;32m----> 1\u001b[0;31m \u001b[0male\u001b[0m\u001b[0;34m.\u001b[0m\u001b[0mgetScreenRGB\u001b[0m\u001b[0;34m(\u001b[0m\u001b[0mscreen_data\u001b[0m\u001b[0;34m)\u001b[0m\u001b[0;34m\u001b[0m\u001b[0;34m\u001b[0m\u001b[0m\n\u001b[0m",
      "\u001b[0;31mTypeError\u001b[0m: getScreenRGB(): incompatible function arguments. The following argument types are supported:\n    1. (self: ale_py.ALEInterface, arg0: numpy.ndarray[uint8]) -> None\n    2. (self: ale_py.ALEInterface) -> numpy.ndarray[uint8]\n\nInvoked with: <ale_py.ALEInterface object at 0x7f55dd06b7b0>, array([0, 0, 0, ..., 0, 0, 0], dtype=uint32)"
     ]
    }
   ],
   "source": [
    "ale.getScreenRGB(screen_data)"
   ]
  },
  {
   "cell_type": "code",
   "execution_count": 37,
   "metadata": {},
   "outputs": [
    {
     "name": "stdout",
     "output_type": "stream",
     "text": [
      "None\n"
     ]
    }
   ],
   "source": [
    "ale = ALEInterface()\n",
    "ale.setInt(\"random_seed\", 123)\n",
    "ale.loadROM(rom_file)\n",
    "\n",
    "(screen_width,screen_height) = ale.getScreenDims()\n",
    "screen_data = np.zeros((screen_width, screen_height), dtype=np.uint8)\n",
    "\n",
    "test=ale.getScreen(screen_data)\n",
    "print(test)"
   ]
  },
  {
   "cell_type": "code",
   "execution_count": 32,
   "metadata": {},
   "outputs": [],
   "source": [
    "(screen_width,screen_height) = ale.getScreenDims()\n",
    "screen_data = np.zeros((screen_width,screen_height,3),dtype=np.uint8)\n",
    "ale.getScreenRGB(screen_data)\n"
   ]
  },
  {
   "cell_type": "code",
   "execution_count": 30,
   "metadata": {},
   "outputs": [
    {
     "data": {
      "text/plain": [
       "(210, 160)"
      ]
     },
     "execution_count": 30,
     "metadata": {},
     "output_type": "execute_result"
    }
   ],
   "source": [
    "ale.getScreenDims()"
   ]
  },
  {
   "cell_type": "code",
   "execution_count": 35,
   "metadata": {
    "scrolled": true
   },
   "outputs": [
    {
     "name": "stdout",
     "output_type": "stream",
     "text": [
      "None\n"
     ]
    }
   ],
   "source": [
    "(screen_width,screen_height) = ale.getScreenDims()\n",
    "screen_data = np.zeros((screen_width,screen_height),dtype=np.uint8)\n",
    "print(ale.getScreen(screen_data))"
   ]
  },
  {
   "cell_type": "code",
   "execution_count": null,
   "metadata": {},
   "outputs": [],
   "source": []
  },
  {
   "cell_type": "code",
   "execution_count": null,
   "metadata": {},
   "outputs": [],
   "source": []
  },
  {
   "cell_type": "code",
   "execution_count": null,
   "metadata": {},
   "outputs": [],
   "source": []
  },
  {
   "cell_type": "code",
   "execution_count": 7,
   "metadata": {},
   "outputs": [
    {
     "name": "stdout",
     "output_type": "stream",
     "text": [
      "random_seed: 123\n",
      "width/height: 210/160\n",
      "Frame Number: 1365 Episode Frame Number: 1365\n",
      "Episode 0 ended with score: 225.0\n",
      "Frame Number: 2883 Episode Frame Number: 1518\n",
      "Episode 1 ended with score: 200.0\n",
      "Frame Number: 4307 Episode Frame Number: 1424\n",
      "Episode 2 ended with score: 100.0\n",
      "Frame Number: 5750 Episode Frame Number: 1443\n",
      "Episode 3 ended with score: 125.0\n",
      "Frame Number: 7164 Episode Frame Number: 1414\n",
      "Episode 4 ended with score: 200.0\n",
      "Frame Number: 9033 Episode Frame Number: 1869\n",
      "Episode 5 ended with score: 725.0\n",
      "Frame Number: 10237 Episode Frame Number: 1204\n",
      "Episode 6 ended with score: 25.0\n",
      "Frame Number: 11809 Episode Frame Number: 1572\n",
      "Episode 7 ended with score: 275.0\n",
      "Frame Number: 13083 Episode Frame Number: 1274\n",
      "Episode 8 ended with score: 200.0\n",
      "Frame Number: 14836 Episode Frame Number: 1753\n",
      "Episode 9 ended with score: 500.0\n"
     ]
    }
   ],
   "source": [
    "import sys\n",
    "import os\n",
    "from ale_py import ALEInterface\n",
    "import numpy as np\n",
    "import pygame\n",
    "\n",
    "ale = ALEInterface()\n",
    "\n",
    "max_frames_per_episode = ale.getInt(\"max_num_frames_per_episode\");\n",
    "ale.setInt(\"random_seed\",123)\n",
    "\n",
    "random_seed = ale.getInt(\"random_seed\")\n",
    "print(\"random_seed: \" + str(random_seed))\n",
    "\n",
    "ale.loadROM(\"qbert.bin\")\n",
    "legal_actions = ale.getMinimalActionSet()\n",
    "\n",
    "(screen_width,screen_height) = ale.getScreenDims()\n",
    "print(\"width/height: \" +str(screen_width) + \"/\" + str(screen_height))\n",
    "\n",
    "#init pygame\n",
    "os.environ[\"SDL_VIDEODRIVER\"] = \"dummy\" # or maybe 'fbcon'\n",
    "pygame.init()\n",
    "screen = pygame.display.set_mode((screen_width,screen_height))\n",
    "pygame.display.set_caption(\"Arcade Learning Environment Random Agent Display\")\n",
    "\n",
    "pygame.display.flip()\n",
    "\n",
    "episode = 0\n",
    "total_reward = 0.0 \n",
    "while(episode < 10):\n",
    "    exit=False\n",
    "    for event in pygame.event.get():\n",
    "        if event.type == pygame.QUIT:\n",
    "            exit=True\n",
    "            break;\n",
    "    if(exit):\n",
    "        break\n",
    "\n",
    "    a = legal_actions[np.random.randint(len(legal_actions))]\n",
    "    reward = ale.act(a);\n",
    "    total_reward += reward\n",
    "\n",
    "    pygame.display.flip()\n",
    "    if(ale.game_over()):\n",
    "        episode_frame_number = ale.getEpisodeFrameNumber()\n",
    "        frame_number = ale.getFrameNumber()\n",
    "        print(\"Frame Number: \" + str(frame_number) + \" Episode Frame Number: \" + str(episode_frame_number))\n",
    "        print(\"Episode \" + str(episode) + \" ended with score: \" + str(total_reward))\n",
    "        ale.reset_game()\n",
    "        total_reward = 0.0 \n",
    "        episode = episode + 1"
   ]
  }
 ],
 "metadata": {
  "kernelspec": {
   "display_name": "Python 3",
   "language": "python",
   "name": "python3"
  },
  "language_info": {
   "codemirror_mode": {
    "name": "ipython",
    "version": 3
   },
   "file_extension": ".py",
   "mimetype": "text/x-python",
   "name": "python",
   "nbconvert_exporter": "python",
   "pygments_lexer": "ipython3",
   "version": "3.8.5"
  }
 },
 "nbformat": 4,
 "nbformat_minor": 4
}
