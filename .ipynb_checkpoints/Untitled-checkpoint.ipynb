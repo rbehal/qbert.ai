{
 "cells": [
  {
   "cell_type": "code",
   "execution_count": 40,
   "metadata": {},
   "outputs": [],
   "source": [
    "#!/usr/bin/env python\n",
    "# python_example.py\n",
    "# Author: Ben Goodrich\n",
    "#\n",
    "# This is a direct port to python of the shared library example from\n",
    "# ALE provided in examples/sharedLibraryInterfaceExample.cpp\n",
    "import sys\n",
    "from random import randrange\n",
    "from ale_py import ALEInterface\n",
    "import numpy as np\n",
    "from PIL import Image\n",
    "import matplotlib.pyplot as plt"
   ]
  },
  {
   "cell_type": "code",
   "execution_count": null,
   "metadata": {},
   "outputs": [],
   "source": [
    "random_seed = 123\n",
    "frame_skip = 5\n",
    "\n",
    "ale = ALEInterface()\n",
    "\n",
    "# Get & Set the desired settings\n",
    "ale.setInt(\"random_seed\", random_seed)\n",
    "ale.setInt('frame_skip', frame_skip)\n",
    "\n",
    "# Load the ROM file\n",
    "rom_file='qbert.bin'\n",
    "ale.loadROM(rom_file)\n",
    "\n",
    "# Get the list of minimal actions\n",
    "minimal_actions = ale.getMinimalActionSet()\n",
    "# Play 10 episodes\n",
    "for episode in range(10):\n",
    "    total_reward = 0\n",
    "    actions = []\n",
    "    count = 0 \n",
    "    while not ale.game_over():\n",
    "        a = minimal_actions[randrange(len(minimal_actions))]\n",
    "        # Apply an action and get the resulting reward\n",
    "        reward = ale.act(a)\n",
    "        total_reward += reward\n",
    "        actions.append(a)\n",
    "#         print(a, reward)\n",
    "        if (count == 60):\n",
    "            test2 = ale.getScreenRGB()\n",
    "        count += 1\n",
    "    print(len(actions))\n",
    "    plt.imshow(test2)\n",
    "    plt.show()\n",
    "    \n",
    "    print(\"Episode %d ended with score: %d\" % (episode, total_reward))\n",
    "    ale.reset_game()"
   ]
  },
  {
   "cell_type": "code",
   "execution_count": 56,
   "metadata": {},
   "outputs": [],
   "source": [
    "im = Image.fromarray(test2)\n",
    "im.save(\"test.png\")"
   ]
  },
  {
   "cell_type": "code",
   "execution_count": 27,
   "metadata": {},
   "outputs": [],
   "source": [
    "block_positions = \t\t\t\t\t\t\t  [[(76,35)], \n",
    "\t\t\t\t\t\t\t\t\t   [(64,63),(92,63)],\n",
    "\t\t\t\t\t\t\t  [(53,92),(77,92),(104,92)],\n",
    "\t\t\t\t  [(40,121),(64,121),(92,121),(117,121)],\n",
    "\t\t[(29,150),(52,150),(76,150),(105,150),(128,150)],\n",
    "[(16,179),(40,179),(64,179),(93,179),(116,179),(140,179)]]\n",
    "\n",
    "blue = [45, 87, 176]\n",
    "yellow = [210, 210, 64]\n",
    "green = [50, 132, 50]\n",
    "purple = [146, 70, 192]"
   ]
  },
  {
   "cell_type": "code",
   "execution_count": null,
   "metadata": {},
   "outputs": [],
   "source": [
    "for row in block_positions:\n",
    "    for block_pos in row:\n",
    "        print(test2[block_pos[1]][block_pos[0]])"
   ]
  },
  {
   "cell_type": "code",
   "execution_count": null,
   "metadata": {},
   "outputs": [],
   "source": [
    "rom_file='qbert.bin'\n",
    "\n",
    "# Get & Set the desired settings\n",
    "ale = ALEInterface()\n",
    "ale.setInt(\"random_seed\", 123)\n",
    "ale.loadROM(rom_file)\n",
    "\n",
    "# Get the list of minimal actions\n",
    "minimal_actions = ale.getMinimalActionSet()"
   ]
  },
  {
   "cell_type": "code",
   "execution_count": null,
   "metadata": {},
   "outputs": [],
   "source": [
    "(screen_width,screen_height) = ale.getScreenDims()\n",
    "screen_data = np.zeros(screen_width*screen_height,dtype=np.uint32)"
   ]
  },
  {
   "cell_type": "code",
   "execution_count": null,
   "metadata": {},
   "outputs": [],
   "source": [
    "ale.getScreenRGB(screen_data)"
   ]
  },
  {
   "cell_type": "code",
   "execution_count": null,
   "metadata": {},
   "outputs": [],
   "source": [
    "ale = ALEInterface()\n",
    "ale.setInt(\"random_seed\", 123)\n",
    "ale.loadROM(rom_file)\n",
    "\n",
    "(screen_width,screen_height) = ale.getScreenDims()\n",
    "screen_data = np.zeros((screen_width, screen_height), dtype=np.uint8)\n",
    "\n",
    "test=ale.getScreen(screen_data)\n",
    "print(test)"
   ]
  },
  {
   "cell_type": "code",
   "execution_count": null,
   "metadata": {},
   "outputs": [],
   "source": [
    "(screen_width,screen_height) = ale.getScreenDims()\n",
    "screen_data = np.zeros((screen_width,screen_height,3),dtype=np.uint8)\n",
    "ale.getScreenRGB(screen_data)\n"
   ]
  },
  {
   "cell_type": "code",
   "execution_count": null,
   "metadata": {},
   "outputs": [],
   "source": [
    "ale.getScreenDims()"
   ]
  },
  {
   "cell_type": "code",
   "execution_count": null,
   "metadata": {
    "scrolled": true
   },
   "outputs": [],
   "source": [
    "(screen_width,screen_height) = ale.getScreenDims()\n",
    "screen_data = np.zeros((screen_width,screen_height),dtype=np.uint8)\n",
    "print(ale.getScreen(screen_data))"
   ]
  },
  {
   "cell_type": "code",
   "execution_count": null,
   "metadata": {},
   "outputs": [],
   "source": []
  },
  {
   "cell_type": "code",
   "execution_count": null,
   "metadata": {},
   "outputs": [],
   "source": [
    "import sys\n",
    "import os\n",
    "from ale_py import ALEInterface\n",
    "import numpy as np\n",
    "import pygame\n",
    "\n",
    "ale = ALEInterface()\n",
    "\n",
    "max_frames_per_episode = ale.getInt(\"max_num_frames_per_episode\");\n",
    "ale.setInt(\"random_seed\",123)\n",
    "\n",
    "random_seed = ale.getInt(\"random_seed\")\n",
    "print(\"random_seed: \" + str(random_seed))\n",
    "\n",
    "ale.loadROM(\"qbert.bin\")\n",
    "legal_actions = ale.getMinimalActionSet()\n",
    "\n",
    "(screen_width,screen_height) = ale.getScreenDims()\n",
    "print(\"width/height: \" +str(screen_width) + \"/\" + str(screen_height))\n",
    "\n",
    "#init pygame\n",
    "os.environ[\"SDL_VIDEODRIVER\"] = \"dummy\" # or maybe 'fbcon'\n",
    "pygame.init()\n",
    "screen = pygame.display.set_mode((screen_width,screen_height))\n",
    "pygame.display.set_caption(\"Arcade Learning Environment Random Agent Display\")\n",
    "\n",
    "pygame.display.flip()\n",
    "\n",
    "episode = 0\n",
    "total_reward = 0.0 \n",
    "while(episode < 10):\n",
    "    exit=False\n",
    "    for event in pygame.event.get():\n",
    "        if event.type == pygame.QUIT:\n",
    "            exit=True\n",
    "            break;\n",
    "    if(exit):\n",
    "        break\n",
    "\n",
    "    a = legal_actions[np.random.randint(len(legal_actions))]\n",
    "    reward = ale.act(a);\n",
    "    total_reward += reward\n",
    "\n",
    "    pygame.display.flip()\n",
    "    if(ale.game_over()):\n",
    "        episode_frame_number = ale.getEpisodeFrameNumber()\n",
    "        frame_number = ale.getFrameNumber()\n",
    "        print(\"Frame Number: \" + str(frame_number) + \" Episode Frame Number: \" + str(episode_frame_number))\n",
    "        print(\"Episode \" + str(episode) + \" ended with score: \" + str(total_reward))\n",
    "        ale.reset_game()\n",
    "        total_reward = 0.0 \n",
    "        episode = episode + 1"
   ]
  },
  {
   "cell_type": "code",
   "execution_count": null,
   "metadata": {},
   "outputs": [],
   "source": [
    "def ale_load_from_rom(rom_path, display_screen):\n",
    "    rng = get_numpy_rng()\n",
    "    try:\n",
    "        from ale_python_interface import ALEInterface\n",
    "    except ImportError as e:\n",
    "        raise ImportError('Unable to import the python package of Arcade Learning Environment. ' \\\n",
    "                           'ALE may not have been installed correctly. Refer to ' \\\n",
    "                           '`https://github.com/mgbellemare/Arcade-Learning-Environment` for some' \\\n",
    "                           'installation guidance')\n",
    "\n",
    "    ale = ALEInterface()\n",
    "    ale.setInt(b'random_seed', rng.randint(1000))\n",
    "    if display_screen:\n",
    "        import sys\n",
    "        if sys.platform == 'darwin':\n",
    "            import pygame\n",
    "            pygame.init()\n",
    "            ale.setBool(b'sound', False) # Sound doesn't work on OSX\n",
    "        ale.setBool(b'display_screen', True)\n",
    "    else:\n",
    "        ale.setBool(b'display_screen', False)\n",
    "    ale.setFloat(b'repeat_action_probability', 0)\n",
    "    ale.loadROM(str.encode(rom_path))\n",
    "    return ale "
   ]
  }
 ],
 "metadata": {
  "kernelspec": {
   "display_name": "Python 3",
   "language": "python",
   "name": "python3"
  },
  "language_info": {
   "codemirror_mode": {
    "name": "ipython",
    "version": 3
   },
   "file_extension": ".py",
   "mimetype": "text/x-python",
   "name": "python",
   "nbconvert_exporter": "python",
   "pygments_lexer": "ipython3",
   "version": "3.8.5"
  }
 },
 "nbformat": 4,
 "nbformat_minor": 4
}
