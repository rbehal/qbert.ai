{
 "cells": [
  {
   "cell_type": "code",
   "execution_count": null,
   "metadata": {},
   "outputs": [],
   "source": [
    "import sys\n",
    "from random import randrange\n",
    "from PIL import Image\n",
    "import matplotlib.pyplot as plt\n",
    "from Game import Game\n",
    "from copy import deepcopy\n",
    "from QLearning import *\n",
    "import numpy as np\n",
    "import matplotlib.pyplot as plt\n",
    "import csv"
   ]
  },
  {
   "cell_type": "code",
   "execution_count": null,
   "metadata": {
    "scrolled": false
   },
   "outputs": [],
   "source": [
    "game = Game()\n",
    "learner = QLearning(game,exp_func=\"softmax\")\n",
    "\n",
    "training_data = []\n",
    "minimal_actions = game.ale.getMinimalActionSet()\n",
    "\n",
    "for episode in range(100):\n",
    "    total_reward = 0\n",
    "    count = 0 \n",
    "    while not game.is_over():\n",
    "        total_reward += learner.main()\n",
    "        count += 1\n",
    "        \n",
    "    print(learner.weights)\n",
    "    print(\"Episode %d ended with score: %d\" % (episode, total_reward))\n",
    "    \n",
    "    output_list = [episode, total_reward] + list(learner.weights)\n",
    "    training_data.append(output_list)\n",
    "    \n",
    "    game.reset()"
   ]
  },
  {
   "cell_type": "code",
   "execution_count": null,
   "metadata": {},
   "outputs": [],
   "source": [
    "def plot_training(training_data, num_past_avg = 10):\n",
    "    x = []\n",
    "    y = []\n",
    "    \n",
    "    avg = []\n",
    "    count = 0\n",
    "    for episode in training_data:\n",
    "        count += 1\n",
    "        ep_num = episode[0]\n",
    "        score = episode[1]\n",
    "        \n",
    "        avg.append(score)\n",
    "        if count == num_past_avg:\n",
    "            count = 0\n",
    "            \n",
    "            x.append(ep_num)\n",
    "            y.append(sum(avg)/len(avg))\n",
    "            \n",
    "            avg = []\n",
    "    \n",
    "    print(x)\n",
    "    print(y)\n",
    "    plt.plot(x, y)\n",
    "    plt.xlabel('Episode Number')\n",
    "    plt.ylabel('Score')\n",
    "    plt.show()"
   ]
  },
  {
   "cell_type": "code",
   "execution_count": null,
   "metadata": {},
   "outputs": [],
   "source": [
    "plot_training(training_data)"
   ]
  },
  {
   "cell_type": "code",
   "execution_count": null,
   "metadata": {},
   "outputs": [],
   "source": [
    "im = Image.fromarray(screenshots[3])\n",
    "im.save(\"test4.png\")"
   ]
  },
  {
   "cell_type": "code",
   "execution_count": 2,
   "metadata": {},
   "outputs": [],
   "source": [
    "x = [9, 19, 29, 39, 49, 59, 69, 79, 89, 99]\n",
    "y = [480.0, 382.5, 355.0, 525.0, 522.5, 477.5, 377.5, 465.0, 425.0, 455.0]"
   ]
  },
  {
   "cell_type": "code",
   "execution_count": 4,
   "metadata": {},
   "outputs": [],
   "source": [
    "import matplotlib.pyplot as plt"
   ]
  },
  {
   "cell_type": "code",
   "execution_count": 6,
   "metadata": {},
   "outputs": [
    {
     "data": {
      "image/png": "[encoded data removed]",
      "text/plain": [
       "<Figure size 432x288 with 1 Axes>"
      ]
     },
     "metadata": {
      "needs_background": "light"
     },
     "output_type": "display_data"
    }
   ],
   "source": [
    "plt.plot(x, y)\n",
    "plt.xlabel('Episode Number')\n",
    "plt.ylabel('Score')\n",
    "plt.show()"
   ]
  },
  {
   "cell_type": "code",
   "execution_count": null,
   "metadata": {},
   "outputs": [],
   "source": [
    "import pandas as pd"
   ]
  },
  {
   "cell_type": "code",
   "execution_count": null,
   "metadata": {},
   "outputs": [],
   "source": [
    "pip install pandas"
   ]
  }
 ],
 "metadata": {
  "kernelspec": {
   "display_name": "Python 3",
   "language": "python",
   "name": "python3"
  },
  "language_info": {
   "codemirror_mode": {
    "name": "ipython",
    "version": 3
   },
   "file_extension": ".py",
   "mimetype": "text/x-python",
   "name": "python",
   "nbconvert_exporter": "python",
   "pygments_lexer": "ipython3",
   "version": "3.8.5"
  }
 },
 "nbformat": 4,
 "nbformat_minor": 4
}
